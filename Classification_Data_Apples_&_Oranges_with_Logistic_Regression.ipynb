{
  "nbformat": 4,
  "nbformat_minor": 0,
  "metadata": {
    "colab": {
      "name": "Classification Data -Apples & Oranges  with Logistic Regression.ipynb",
      "provenance": [],
      "collapsed_sections": [],
      "authorship_tag": "ABX9TyMC/OPZnA3s6SxsR4o09kV0",
      "include_colab_link": true
    },
    "kernelspec": {
      "name": "python3",
      "display_name": "Python 3"
    }
  },
  "cells": [
    {
      "cell_type": "markdown",
      "metadata": {
        "id": "view-in-github",
        "colab_type": "text"
      },
      "source": [
        "<a href=\"https://colab.research.google.com/github/saisushantht/Classification-Data--Apples-Oranges/blob/master/Classification_Data_Apples_%26_Oranges_with_Logistic_Regression.ipynb\" target=\"_parent\"><img src=\"https://colab.research.google.com/assets/colab-badge.svg\" alt=\"Open In Colab\"/></a>"
      ]
    },
    {
      "cell_type": "code",
      "metadata": {
        "id": "UCWw-F0LEZ_3",
        "colab_type": "code",
        "colab": {}
      },
      "source": [
        "import pandas as pd"
      ],
      "execution_count": 1,
      "outputs": []
    },
    {
      "cell_type": "markdown",
      "metadata": {
        "id": "MNnRm49FmBON",
        "colab_type": "text"
      },
      "source": [
        "Loading the dataset from Github repo.\n"
      ]
    },
    {
      "cell_type": "code",
      "metadata": {
        "id": "UsYZQGDhFym_",
        "colab_type": "code",
        "colab": {}
      },
      "source": [
        "dataset_url='https://raw.githubusercontent.com/saisushantht/Classification-Data--Apples-Oranges/master/datasets_632612_1125338_apples_and_oranges.csv'\n",
        "df=pd.read_csv(dataset_url)"
      ],
      "execution_count": 2,
      "outputs": []
    },
    {
      "cell_type": "code",
      "metadata": {
        "id": "AhG1vaRjGO13",
        "colab_type": "code",
        "colab": {
          "base_uri": "https://localhost:8080/",
          "height": 195
        },
        "outputId": "d1faea2d-dc44-4930-f044-9758e2923114"
      },
      "source": [
        "df.head()    # to view the first five rows of dataframe"
      ],
      "execution_count": 3,
      "outputs": [
        {
          "output_type": "execute_result",
          "data": {
            "text/html": [
              "<div>\n",
              "<style scoped>\n",
              "    .dataframe tbody tr th:only-of-type {\n",
              "        vertical-align: middle;\n",
              "    }\n",
              "\n",
              "    .dataframe tbody tr th {\n",
              "        vertical-align: top;\n",
              "    }\n",
              "\n",
              "    .dataframe thead th {\n",
              "        text-align: right;\n",
              "    }\n",
              "</style>\n",
              "<table border=\"1\" class=\"dataframe\">\n",
              "  <thead>\n",
              "    <tr style=\"text-align: right;\">\n",
              "      <th></th>\n",
              "      <th>Weight</th>\n",
              "      <th>Size</th>\n",
              "      <th>Class</th>\n",
              "    </tr>\n",
              "  </thead>\n",
              "  <tbody>\n",
              "    <tr>\n",
              "      <th>0</th>\n",
              "      <td>69</td>\n",
              "      <td>4.39</td>\n",
              "      <td>orange</td>\n",
              "    </tr>\n",
              "    <tr>\n",
              "      <th>1</th>\n",
              "      <td>69</td>\n",
              "      <td>4.21</td>\n",
              "      <td>orange</td>\n",
              "    </tr>\n",
              "    <tr>\n",
              "      <th>2</th>\n",
              "      <td>65</td>\n",
              "      <td>4.09</td>\n",
              "      <td>orange</td>\n",
              "    </tr>\n",
              "    <tr>\n",
              "      <th>3</th>\n",
              "      <td>72</td>\n",
              "      <td>5.85</td>\n",
              "      <td>apple</td>\n",
              "    </tr>\n",
              "    <tr>\n",
              "      <th>4</th>\n",
              "      <td>67</td>\n",
              "      <td>4.70</td>\n",
              "      <td>orange</td>\n",
              "    </tr>\n",
              "  </tbody>\n",
              "</table>\n",
              "</div>"
            ],
            "text/plain": [
              "   Weight  Size   Class\n",
              "0      69  4.39  orange\n",
              "1      69  4.21  orange\n",
              "2      65  4.09  orange\n",
              "3      72  5.85   apple\n",
              "4      67  4.70  orange"
            ]
          },
          "metadata": {
            "tags": []
          },
          "execution_count": 3
        }
      ]
    },
    {
      "cell_type": "code",
      "metadata": {
        "id": "LhznnsIMmqU-",
        "colab_type": "code",
        "colab": {
          "base_uri": "https://localhost:8080/",
          "height": 201
        },
        "outputId": "1f738885-c4bc-4a16-c76b-2421a36623cd"
      },
      "source": [
        "df.info()   #to view the summary of a DataFrame"
      ],
      "execution_count": 4,
      "outputs": [
        {
          "output_type": "stream",
          "text": [
            "<class 'pandas.core.frame.DataFrame'>\n",
            "RangeIndex: 40 entries, 0 to 39\n",
            "Data columns (total 3 columns):\n",
            " #   Column  Non-Null Count  Dtype  \n",
            "---  ------  --------------  -----  \n",
            " 0   Weight  40 non-null     int64  \n",
            " 1   Size    40 non-null     float64\n",
            " 2   Class   40 non-null     object \n",
            "dtypes: float64(1), int64(1), object(1)\n",
            "memory usage: 1.1+ KB\n"
          ],
          "name": "stdout"
        }
      ]
    },
    {
      "cell_type": "markdown",
      "metadata": {
        "id": "ykDBKMohnCua",
        "colab_type": "text"
      },
      "source": [
        "Form the above  summary of the dataFrame we can conform that there are no \n",
        "NULL values\n"
      ]
    },
    {
      "cell_type": "markdown",
      "metadata": {
        "id": "RNSLHOk8nXWc",
        "colab_type": "text"
      },
      "source": [
        "Importing matplotlib.pyplot for ploting.\n",
        "%matplotlib inline to set the inline backend "
      ]
    },
    {
      "cell_type": "code",
      "metadata": {
        "id": "ZazX0XjNH_rE",
        "colab_type": "code",
        "colab": {}
      },
      "source": [
        "import matplotlib.pyplot as plt\n",
        "%matplotlib inline\n"
      ],
      "execution_count": 5,
      "outputs": []
    },
    {
      "cell_type": "code",
      "metadata": {
        "id": "OEURZdLJP13-",
        "colab_type": "code",
        "colab": {
          "base_uri": "https://localhost:8080/",
          "height": 314
        },
        "outputId": "07eeb2ee-01ed-49f0-ce49-318111c85203"
      },
      "source": [
        "plt.scatter(df['Weight'],df['Size'],color=\"b\",marker='+')     # to create scatter plot .\n",
        "plt.title(\"Plot Weight Vs Size\")\n",
        "plt.xlabel(\"Weight\")\n",
        "plt.ylabel(\"Size\")"
      ],
      "execution_count": 6,
      "outputs": [
        {
          "output_type": "execute_result",
          "data": {
            "text/plain": [
              "Text(0, 0.5, 'Size')"
            ]
          },
          "metadata": {
            "tags": []
          },
          "execution_count": 6
        },
        {
          "output_type": "display_data",
          "data": {
            "image/png": "[encoded data removed]",
            "text/plain": [
              "<Figure size 432x288 with 1 Axes>"
            ]
          },
          "metadata": {
            "tags": [],
            "needs_background": "light"
          }
        }
      ]
    },
    {
      "cell_type": "markdown",
      "metadata": {
        "id": "uClzZFLLpfhH",
        "colab_type": "text"
      },
      "source": [
        "To understand model performance, dividing the dataset into a training set and a test set is done.\n",
        "by using function train_test_split()"
      ]
    },
    {
      "cell_type": "code",
      "metadata": {
        "id": "GLTNGqumQpka",
        "colab_type": "code",
        "colab": {
          "base_uri": "https://localhost:8080/",
          "height": 90
        },
        "outputId": "216e18f4-b2f1-4b1f-dd29-3d89791fb351"
      },
      "source": [
        "from sklearn.model_selection import train_test_split\n",
        "df = df.sample(frac = 1)        #to shuffle the dataframe\n",
        "\n",
        "X=df.drop(['Class'],axis='columns')                            # for features \n",
        "Y=df.drop(['Weight','Size'],axis='columns')               # for labels\n",
        "\n",
        "X_train, X_test, Y_train, Y_test = train_test_split(X, Y, test_size=0.3)      #dividing in train(70%) and test(30%)\n",
        "print(\"shape of X_train = \",X_train.shape)\n",
        "print(\"shape of Y_train = \",Y_train.shape)\n",
        "print(\"shape of X_test  = \",X_test.shape)\n",
        "print(\"shape of Y_test  = \",Y_test.shape)"
      ],
      "execution_count": 19,
      "outputs": [
        {
          "output_type": "stream",
          "text": [
            "shape of X_train =  (28, 2)\n",
            "shape of Y_train =  (28, 1)\n",
            "shape of X_test  =  (12, 2)\n",
            "shape of Y_test  =  (12, 1)\n"
          ],
          "name": "stdout"
        }
      ]
    },
    {
      "cell_type": "markdown",
      "metadata": {
        "id": "uzSQb0zYrm2d",
        "colab_type": "text"
      },
      "source": [
        "In sklearn, all machine learning models are implemented as Python classes"
      ]
    },
    {
      "cell_type": "code",
      "metadata": {
        "id": "-ucnE8SnTjxZ",
        "colab_type": "code",
        "colab": {}
      },
      "source": [
        "import numpy as np\n",
        "from sklearn.linear_model import LogisticRegression                                   # import the class\n",
        "from sklearn.metrics import classification_report, confusion_matrix"
      ],
      "execution_count": 20,
      "outputs": []
    },
    {
      "cell_type": "markdown",
      "metadata": {
        "id": "2_tElBqxsgHu",
        "colab_type": "text"
      },
      "source": [
        "Instantiate the model (using the default parameters)"
      ]
    },
    {
      "cell_type": "code",
      "metadata": {
        "id": "HNAig4vYYlAK",
        "colab_type": "code",
        "colab": {}
      },
      "source": [
        "model = LogisticRegression()"
      ],
      "execution_count": 21,
      "outputs": []
    },
    {
      "cell_type": "markdown",
      "metadata": {
        "id": "7qnrMPbssjmW",
        "colab_type": "text"
      },
      "source": [
        "fit the model with data"
      ]
    },
    {
      "cell_type": "code",
      "metadata": {
        "id": "_GndU4EcYruE",
        "colab_type": "code",
        "colab": {
          "base_uri": "https://localhost:8080/",
          "height": 166
        },
        "outputId": "fdc99a86-3109-415b-be7f-6ac9f4150f7e"
      },
      "source": [
        "model.fit(X_train, Y_train)"
      ],
      "execution_count": 22,
      "outputs": [
        {
          "output_type": "stream",
          "text": [
            "/usr/local/lib/python3.6/dist-packages/sklearn/utils/validation.py:760: DataConversionWarning: A column-vector y was passed when a 1d array was expected. Please change the shape of y to (n_samples, ), for example using ravel().\n",
            "  y = column_or_1d(y, warn=True)\n"
          ],
          "name": "stderr"
        },
        {
          "output_type": "execute_result",
          "data": {
            "text/plain": [
              "LogisticRegression(C=1.0, class_weight=None, dual=False, fit_intercept=True,\n",
              "                   intercept_scaling=1, l1_ratio=None, max_iter=100,\n",
              "                   multi_class='auto', n_jobs=None, penalty='l2',\n",
              "                   random_state=None, solver='lbfgs', tol=0.0001, verbose=0,\n",
              "                   warm_start=False)"
            ]
          },
          "metadata": {
            "tags": []
          },
          "execution_count": 22
        }
      ]
    },
    {
      "cell_type": "markdown",
      "metadata": {
        "id": "wZXXGPZes_PL",
        "colab_type": "text"
      },
      "source": [
        "predict_proba gives the probabilities for the target in array form."
      ]
    },
    {
      "cell_type": "code",
      "metadata": {
        "id": "1MQ7d1GkY2OX",
        "colab_type": "code",
        "colab": {
          "base_uri": "https://localhost:8080/",
          "height": 238
        },
        "outputId": "d0f95cd9-cea5-4cb9-dc85-349649ae85f1"
      },
      "source": [
        "model.predict_proba(X_test)"
      ],
      "execution_count": 23,
      "outputs": [
        {
          "output_type": "execute_result",
          "data": {
            "text/plain": [
              "array([[2.45798807e-01, 7.54201193e-01],\n",
              "       [2.37468712e-01, 7.62531288e-01],\n",
              "       [9.95876897e-01, 4.12310340e-03],\n",
              "       [6.11497171e-01, 3.88502829e-01],\n",
              "       [6.61623173e-04, 9.99338377e-01],\n",
              "       [1.77949440e-01, 8.22050560e-01],\n",
              "       [9.85534283e-01, 1.44657175e-02],\n",
              "       [9.98482169e-01, 1.51783100e-03],\n",
              "       [9.12663478e-01, 8.73365222e-02],\n",
              "       [4.74765297e-01, 5.25234703e-01],\n",
              "       [9.42953538e-04, 9.99057046e-01],\n",
              "       [9.96267857e-01, 3.73214290e-03]])"
            ]
          },
          "metadata": {
            "tags": []
          },
          "execution_count": 23
        }
      ]
    },
    {
      "cell_type": "markdown",
      "metadata": {
        "id": "wZlWNiX2tsKz",
        "colab_type": "text"
      },
      "source": [
        "We can predict the class for new data instances using our finalized classification model in scikit-learn using the predict() function."
      ]
    },
    {
      "cell_type": "code",
      "metadata": {
        "id": "gU9L6_KyZBru",
        "colab_type": "code",
        "colab": {
          "base_uri": "https://localhost:8080/",
          "height": 54
        },
        "outputId": "86853067-959f-4221-d666-17c19ed3dad4"
      },
      "source": [
        "Y_pred=model.predict(X_test)                    \n",
        "Y_pred"
      ],
      "execution_count": 24,
      "outputs": [
        {
          "output_type": "execute_result",
          "data": {
            "text/plain": [
              "array(['orange', 'orange', 'apple', 'apple', 'orange', 'orange', 'apple',\n",
              "       'apple', 'apple', 'orange', 'orange', 'apple'], dtype=object)"
            ]
          },
          "metadata": {
            "tags": []
          },
          "execution_count": 24
        }
      ]
    },
    {
      "cell_type": "code",
      "metadata": {
        "id": "A7f3JY3fZIpH",
        "colab_type": "code",
        "colab": {
          "base_uri": "https://localhost:8080/",
          "height": 35
        },
        "outputId": "8bf7e189-de14-4778-e4bd-aebbd92fcffb"
      },
      "source": [
        "model.score(X_test, Y_test)   # to know the accuracy"
      ],
      "execution_count": 25,
      "outputs": [
        {
          "output_type": "execute_result",
          "data": {
            "text/plain": [
              "0.9166666666666666"
            ]
          },
          "metadata": {
            "tags": []
          },
          "execution_count": 25
        }
      ]
    },
    {
      "cell_type": "markdown",
      "metadata": {
        "id": "v_flVm5auY31",
        "colab_type": "text"
      },
      "source": [
        "visualizing the results of the model in the form of a confusion matrix "
      ]
    },
    {
      "cell_type": "code",
      "metadata": {
        "id": "hKSAZRRLZODp",
        "colab_type": "code",
        "colab": {
          "base_uri": "https://localhost:8080/",
          "height": 54
        },
        "outputId": "dde68f57-80f5-411f-a192-61a6a8f6a630"
      },
      "source": [
        "confusion_matrix(Y_test, Y_pred)        #creating Confusion matrix"
      ],
      "execution_count": 26,
      "outputs": [
        {
          "output_type": "execute_result",
          "data": {
            "text/plain": [
              "array([[5, 0],\n",
              "       [1, 6]])"
            ]
          },
          "metadata": {
            "tags": []
          },
          "execution_count": 26
        }
      ]
    },
    {
      "cell_type": "code",
      "metadata": {
        "id": "OQnbo0HsZZVp",
        "colab_type": "code",
        "colab": {
          "base_uri": "https://localhost:8080/",
          "height": 483
        },
        "outputId": "b4fc7168-6186-44ae-f831-25a0a8219c9f"
      },
      "source": [
        "cm = confusion_matrix(Y_test, Y_pred)\n",
        "\n",
        "fig, ax = plt.subplots(figsize=(8, 8))\n",
        "ax.imshow(cm)\n",
        "ax.grid(False)\n",
        "ax.xaxis.set(ticks=(0, 1), ticklabels=('Predicted 0s', 'Predicted 1s'))\n",
        "ax.yaxis.set(ticks=(0, 1), ticklabels=('Actual 0s', 'Actual 1s'))\n",
        "ax.set_ylim(1.5, -0.5)\n",
        "for i in range(2):\n",
        "    for j in range(2):\n",
        "        ax.text(j, i, cm[i, j], ha='center', va='center', color='red')\n",
        "plt.show()"
      ],
      "execution_count": 27,
      "outputs": [
        {
          "output_type": "display_data",
          "data": {
            "image/png": "[encoded data removed]",
            "text/plain": [
              "<Figure size 576x576 with 1 Axes>"
            ]
          },
          "metadata": {
            "tags": [],
            "needs_background": "light"
          }
        }
      ]
    },
    {
      "cell_type": "code",
      "metadata": {
        "id": "m9QSaleMZjim",
        "colab_type": "code",
        "colab": {
          "base_uri": "https://localhost:8080/",
          "height": 35
        },
        "outputId": "3864c2cd-c827-451d-cd42-0917f2897ab3"
      },
      "source": [
        "\n",
        "\n",
        "model.predict([[74,5.3]])"
      ],
      "execution_count": 28,
      "outputs": [
        {
          "output_type": "execute_result",
          "data": {
            "text/plain": [
              "array(['apple'], dtype=object)"
            ]
          },
          "metadata": {
            "tags": []
          },
          "execution_count": 28
        }
      ]
    },
    {
      "cell_type": "code",
      "metadata": {
        "id": "h2D_C0XzaHPy",
        "colab_type": "code",
        "colab": {
          "base_uri": "https://localhost:8080/",
          "height": 35
        },
        "outputId": "f7f6f82d-d32c-4150-f458-97f95d4ad5fc"
      },
      "source": [
        "model.predict([[62,3.0]])"
      ],
      "execution_count": 29,
      "outputs": [
        {
          "output_type": "execute_result",
          "data": {
            "text/plain": [
              "array(['orange'], dtype=object)"
            ]
          },
          "metadata": {
            "tags": []
          },
          "execution_count": 29
        }
      ]
    },
    {
      "cell_type": "code",
      "metadata": {
        "id": "iaFOySd9amqh",
        "colab_type": "code",
        "colab": {
          "base_uri": "https://localhost:8080/",
          "height": 182
        },
        "outputId": "fc0594d5-7589-482d-b86b-671f3d0eeed2"
      },
      "source": [
        "print(classification_report(Y_test, Y_pred))    #to show the main classification metrics."
      ],
      "execution_count": 30,
      "outputs": [
        {
          "output_type": "stream",
          "text": [
            "              precision    recall  f1-score   support\n",
            "\n",
            "       apple       0.83      1.00      0.91         5\n",
            "      orange       1.00      0.86      0.92         7\n",
            "\n",
            "    accuracy                           0.92        12\n",
            "   macro avg       0.92      0.93      0.92        12\n",
            "weighted avg       0.93      0.92      0.92        12\n",
            "\n"
          ],
          "name": "stdout"
        }
      ]
    },
    {
      "cell_type": "code",
      "metadata": {
        "id": "0aCI74cTg5IB",
        "colab_type": "code",
        "colab": {
          "base_uri": "https://localhost:8080/",
          "height": 35
        },
        "outputId": "f0f8f455-8390-427d-953a-df7ae3e1f542"
      },
      "source": [
        "print(\"Accuracy =\",model.score(X_test,Y_test))"
      ],
      "execution_count": 32,
      "outputs": [
        {
          "output_type": "stream",
          "text": [
            "Accuracy = 0.9166666666666666\n"
          ],
          "name": "stdout"
        }
      ]
    },
    {
      "cell_type": "code",
      "metadata": {
        "id": "cVaZk7wGhOxN",
        "colab_type": "code",
        "colab": {}
      },
      "source": [
        ""
      ],
      "execution_count": null,
      "outputs": []
    }
  ]
}